{
 "cells": [
  {
   "cell_type": "markdown",
   "metadata": {},
   "source": [
    "# Optimization of Wind/Solar/Battery/Load portfolio"
   ]
  },
  {
   "cell_type": "markdown",
   "metadata": {},
   "source": [
    "This notebook provides an example of optimizing a wind/solar/battery/load portfolio in the static environment. \n",
    "\n",
    "In the static environment the optimization is done in a single run for the whole period. Data series are provided in the form of a Pandas dataframe."
   ]
  },
  {
   "cell_type": "code",
   "execution_count": 11,
   "metadata": {},
   "outputs": [],
   "source": [
    "import sys\n",
    "sys.path.append(\"./../src/\")\n",
    "from OptiMind import *"
   ]
  },
  {
   "cell_type": "code",
   "execution_count": 12,
   "metadata": {},
   "outputs": [],
   "source": [
    "import pandas as pd"
   ]
  },
  {
   "cell_type": "markdown",
   "metadata": {},
   "source": [
    "First we import the data series from the csv file. These consist of the load, the wind and solar power generation, and the spot market prices."
   ]
  },
  {
   "cell_type": "code",
   "execution_count": 13,
   "metadata": {},
   "outputs": [],
   "source": [
    "df = pd.read_csv('./data/data_static.csv')\n",
    "df.loc[:,'timestamps'] = pd.to_datetime(df.loc[:,'timestamps'])"
   ]
  },
  {
   "cell_type": "code",
   "execution_count": 14,
   "metadata": {},
   "outputs": [
    {
     "data": {
      "text/html": [
       "<div>\n",
       "<style scoped>\n",
       "    .dataframe tbody tr th:only-of-type {\n",
       "        vertical-align: middle;\n",
       "    }\n",
       "\n",
       "    .dataframe tbody tr th {\n",
       "        vertical-align: top;\n",
       "    }\n",
       "\n",
       "    .dataframe thead th {\n",
       "        text-align: right;\n",
       "    }\n",
       "</style>\n",
       "<table border=\"1\" class=\"dataframe\">\n",
       "  <thead>\n",
       "    <tr style=\"text-align: right;\">\n",
       "      <th></th>\n",
       "      <th>timestamps</th>\n",
       "      <th>load</th>\n",
       "      <th>wind_generation</th>\n",
       "      <th>solar_generation</th>\n",
       "      <th>spot_price</th>\n",
       "    </tr>\n",
       "  </thead>\n",
       "  <tbody>\n",
       "    <tr>\n",
       "      <th>0</th>\n",
       "      <td>2019-05-29 14:00:00</td>\n",
       "      <td>132.654137</td>\n",
       "      <td>206.592623</td>\n",
       "      <td>257.463356</td>\n",
       "      <td>0.3956</td>\n",
       "    </tr>\n",
       "    <tr>\n",
       "      <th>1</th>\n",
       "      <td>2019-05-29 15:00:00</td>\n",
       "      <td>154.113323</td>\n",
       "      <td>119.696063</td>\n",
       "      <td>176.601749</td>\n",
       "      <td>0.4443</td>\n",
       "    </tr>\n",
       "    <tr>\n",
       "      <th>2</th>\n",
       "      <td>2019-05-29 16:00:00</td>\n",
       "      <td>165.607048</td>\n",
       "      <td>111.521058</td>\n",
       "      <td>84.108178</td>\n",
       "      <td>0.4906</td>\n",
       "    </tr>\n",
       "    <tr>\n",
       "      <th>3</th>\n",
       "      <td>2019-05-29 17:00:00</td>\n",
       "      <td>168.367154</td>\n",
       "      <td>54.599250</td>\n",
       "      <td>21.964314</td>\n",
       "      <td>0.5214</td>\n",
       "    </tr>\n",
       "    <tr>\n",
       "      <th>4</th>\n",
       "      <td>2019-05-29 18:00:00</td>\n",
       "      <td>188.294382</td>\n",
       "      <td>29.222222</td>\n",
       "      <td>7.228477</td>\n",
       "      <td>0.5262</td>\n",
       "    </tr>\n",
       "    <tr>\n",
       "      <th>...</th>\n",
       "      <td>...</td>\n",
       "      <td>...</td>\n",
       "      <td>...</td>\n",
       "      <td>...</td>\n",
       "      <td>...</td>\n",
       "    </tr>\n",
       "    <tr>\n",
       "      <th>6931</th>\n",
       "      <td>2020-03-13 09:00:00</td>\n",
       "      <td>330.182226</td>\n",
       "      <td>469.167502</td>\n",
       "      <td>175.291628</td>\n",
       "      <td>0.0846</td>\n",
       "    </tr>\n",
       "    <tr>\n",
       "      <th>6932</th>\n",
       "      <td>2020-03-13 10:00:00</td>\n",
       "      <td>337.691553</td>\n",
       "      <td>469.392140</td>\n",
       "      <td>74.792523</td>\n",
       "      <td>0.0847</td>\n",
       "    </tr>\n",
       "    <tr>\n",
       "      <th>6933</th>\n",
       "      <td>2020-03-13 11:00:00</td>\n",
       "      <td>327.122966</td>\n",
       "      <td>468.729785</td>\n",
       "      <td>113.845581</td>\n",
       "      <td>0.0801</td>\n",
       "    </tr>\n",
       "    <tr>\n",
       "      <th>6934</th>\n",
       "      <td>2020-03-13 12:00:00</td>\n",
       "      <td>325.853585</td>\n",
       "      <td>465.463099</td>\n",
       "      <td>96.488675</td>\n",
       "      <td>0.0787</td>\n",
       "    </tr>\n",
       "    <tr>\n",
       "      <th>6935</th>\n",
       "      <td>2020-03-13 13:00:00</td>\n",
       "      <td>329.734126</td>\n",
       "      <td>429.029651</td>\n",
       "      <td>59.571580</td>\n",
       "      <td>0.0791</td>\n",
       "    </tr>\n",
       "  </tbody>\n",
       "</table>\n",
       "<p>6936 rows × 5 columns</p>\n",
       "</div>"
      ],
      "text/plain": [
       "              timestamps        load  ...  solar_generation  spot_price\n",
       "0    2019-05-29 14:00:00  132.654137  ...        257.463356      0.3956\n",
       "1    2019-05-29 15:00:00  154.113323  ...        176.601749      0.4443\n",
       "2    2019-05-29 16:00:00  165.607048  ...         84.108178      0.4906\n",
       "3    2019-05-29 17:00:00  168.367154  ...         21.964314      0.5214\n",
       "4    2019-05-29 18:00:00  188.294382  ...          7.228477      0.5262\n",
       "...                  ...         ...  ...               ...         ...\n",
       "6931 2020-03-13 09:00:00  330.182226  ...        175.291628      0.0846\n",
       "6932 2020-03-13 10:00:00  337.691553  ...         74.792523      0.0847\n",
       "6933 2020-03-13 11:00:00  327.122966  ...        113.845581      0.0801\n",
       "6934 2020-03-13 12:00:00  325.853585  ...         96.488675      0.0787\n",
       "6935 2020-03-13 13:00:00  329.734126  ...         59.571580      0.0791\n",
       "\n",
       "[6936 rows x 5 columns]"
      ]
     },
     "execution_count": 14,
     "metadata": {},
     "output_type": "execute_result"
    }
   ],
   "source": [
    "df"
   ]
  },
  {
   "cell_type": "markdown",
   "metadata": {},
   "source": [
    "We build the agent data input structure. First, we create a dataframe which contains 4 columns with the following names:\n",
    "- \"load\": power demand in xW\n",
    "- \"generation\": aggregated RES (solar, wind) generation in xW\n",
    "- \"price_sell\": price for selling power in currency/xWh\n",
    "- \"price_buy\": price for buying power in currency/xWh\n",
    "\n",
    "where x replaces some metric prefix (e.g k for kilo, M for mega)\n",
    "\n",
    "Dataframe index should consist of the timestamps"
   ]
  },
  {
   "cell_type": "code",
   "execution_count": 15,
   "metadata": {},
   "outputs": [],
   "source": [
    "timestamps = pd.Series(df[\"timestamps\"], name='timestamps')\n",
    "load = pd.Series(df[\"load\"], name='load') \n",
    "generation = pd.Series(df[\"wind_generation\"]+df[\"solar_generation\"], name='generation') \n",
    "price_sell = pd.Series(df[\"spot_price\"] - 0.04, name='price_sell') \n",
    "price_buy = pd.Series(df[\"spot_price\"] + 0.04, name='price_buy') \n",
    "\n",
    "data_input = pd.concat([timestamps, load, generation, price_sell, price_buy], axis=1).set_index('timestamps')"
   ]
  },
  {
   "cell_type": "code",
   "execution_count": 16,
   "metadata": {},
   "outputs": [
    {
     "data": {
      "text/html": [
       "<div>\n",
       "<style scoped>\n",
       "    .dataframe tbody tr th:only-of-type {\n",
       "        vertical-align: middle;\n",
       "    }\n",
       "\n",
       "    .dataframe tbody tr th {\n",
       "        vertical-align: top;\n",
       "    }\n",
       "\n",
       "    .dataframe thead th {\n",
       "        text-align: right;\n",
       "    }\n",
       "</style>\n",
       "<table border=\"1\" class=\"dataframe\">\n",
       "  <thead>\n",
       "    <tr style=\"text-align: right;\">\n",
       "      <th></th>\n",
       "      <th>load</th>\n",
       "      <th>generation</th>\n",
       "      <th>price_sell</th>\n",
       "      <th>price_buy</th>\n",
       "    </tr>\n",
       "    <tr>\n",
       "      <th>timestamps</th>\n",
       "      <th></th>\n",
       "      <th></th>\n",
       "      <th></th>\n",
       "      <th></th>\n",
       "    </tr>\n",
       "  </thead>\n",
       "  <tbody>\n",
       "    <tr>\n",
       "      <th>2019-05-29 14:00:00</th>\n",
       "      <td>132.654137</td>\n",
       "      <td>464.055979</td>\n",
       "      <td>0.3556</td>\n",
       "      <td>0.4356</td>\n",
       "    </tr>\n",
       "    <tr>\n",
       "      <th>2019-05-29 15:00:00</th>\n",
       "      <td>154.113323</td>\n",
       "      <td>296.297812</td>\n",
       "      <td>0.4043</td>\n",
       "      <td>0.4843</td>\n",
       "    </tr>\n",
       "    <tr>\n",
       "      <th>2019-05-29 16:00:00</th>\n",
       "      <td>165.607048</td>\n",
       "      <td>195.629235</td>\n",
       "      <td>0.4506</td>\n",
       "      <td>0.5306</td>\n",
       "    </tr>\n",
       "    <tr>\n",
       "      <th>2019-05-29 17:00:00</th>\n",
       "      <td>168.367154</td>\n",
       "      <td>76.563564</td>\n",
       "      <td>0.4814</td>\n",
       "      <td>0.5614</td>\n",
       "    </tr>\n",
       "    <tr>\n",
       "      <th>2019-05-29 18:00:00</th>\n",
       "      <td>188.294382</td>\n",
       "      <td>36.450699</td>\n",
       "      <td>0.4862</td>\n",
       "      <td>0.5662</td>\n",
       "    </tr>\n",
       "    <tr>\n",
       "      <th>...</th>\n",
       "      <td>...</td>\n",
       "      <td>...</td>\n",
       "      <td>...</td>\n",
       "      <td>...</td>\n",
       "    </tr>\n",
       "    <tr>\n",
       "      <th>2020-03-13 09:00:00</th>\n",
       "      <td>330.182226</td>\n",
       "      <td>644.459130</td>\n",
       "      <td>0.0446</td>\n",
       "      <td>0.1246</td>\n",
       "    </tr>\n",
       "    <tr>\n",
       "      <th>2020-03-13 10:00:00</th>\n",
       "      <td>337.691553</td>\n",
       "      <td>544.184663</td>\n",
       "      <td>0.0447</td>\n",
       "      <td>0.1247</td>\n",
       "    </tr>\n",
       "    <tr>\n",
       "      <th>2020-03-13 11:00:00</th>\n",
       "      <td>327.122966</td>\n",
       "      <td>582.575366</td>\n",
       "      <td>0.0401</td>\n",
       "      <td>0.1201</td>\n",
       "    </tr>\n",
       "    <tr>\n",
       "      <th>2020-03-13 12:00:00</th>\n",
       "      <td>325.853585</td>\n",
       "      <td>561.951774</td>\n",
       "      <td>0.0387</td>\n",
       "      <td>0.1187</td>\n",
       "    </tr>\n",
       "    <tr>\n",
       "      <th>2020-03-13 13:00:00</th>\n",
       "      <td>329.734126</td>\n",
       "      <td>488.601231</td>\n",
       "      <td>0.0391</td>\n",
       "      <td>0.1191</td>\n",
       "    </tr>\n",
       "  </tbody>\n",
       "</table>\n",
       "<p>6936 rows × 4 columns</p>\n",
       "</div>"
      ],
      "text/plain": [
       "                           load  generation  price_sell  price_buy\n",
       "timestamps                                                        \n",
       "2019-05-29 14:00:00  132.654137  464.055979      0.3556     0.4356\n",
       "2019-05-29 15:00:00  154.113323  296.297812      0.4043     0.4843\n",
       "2019-05-29 16:00:00  165.607048  195.629235      0.4506     0.5306\n",
       "2019-05-29 17:00:00  168.367154   76.563564      0.4814     0.5614\n",
       "2019-05-29 18:00:00  188.294382   36.450699      0.4862     0.5662\n",
       "...                         ...         ...         ...        ...\n",
       "2020-03-13 09:00:00  330.182226  644.459130      0.0446     0.1246\n",
       "2020-03-13 10:00:00  337.691553  544.184663      0.0447     0.1247\n",
       "2020-03-13 11:00:00  327.122966  582.575366      0.0401     0.1201\n",
       "2020-03-13 12:00:00  325.853585  561.951774      0.0387     0.1187\n",
       "2020-03-13 13:00:00  329.734126  488.601231      0.0391     0.1191\n",
       "\n",
       "[6936 rows x 4 columns]"
      ]
     },
     "execution_count": 16,
     "metadata": {},
     "output_type": "execute_result"
    }
   ],
   "source": [
    "data_input"
   ]
  },
  {
   "cell_type": "markdown",
   "metadata": {},
   "source": [
    "Then we pass the dataframe to the \"Data\" structure to create it"
   ]
  },
  {
   "cell_type": "code",
   "execution_count": 17,
   "metadata": {},
   "outputs": [],
   "source": [
    "data = Data(static_data = data_input)"
   ]
  },
  {
   "cell_type": "markdown",
   "metadata": {},
   "source": [
    "We build the agent parameter input structure. We provide the following parameters. The parameters that have default values can be skipped."
   ]
  },
  {
   "cell_type": "markdown",
   "metadata": {},
   "source": [
    "Battery parameters\n",
    "- battery_min_level:               battery minimum energy level as percentage of capacity\n",
    "- battery_capacity:                battery capacity (xWh)\n",
    "- battery_charge_max:              battery max charging power (xW)\n",
    "- battery_discharge_max:           battery max discharging power (xW)\n",
    "- battery_efficiency_charge:       battery efficiency when charging\n",
    "- battery_efficiency_discharge:    battery efficiency when discharging\n",
    "- bel_ini_level:                   battery energy level in the beginning of the planning horizon (xWh), (Default = 0.0)\n",
    "- bel_fin_level:                   battery energy level at the end of the planning horizon (*Wh), (Default = 0.0)\n",
    "\n",
    "If bel_ini_level or bel_fin_level < battery_min_level, they automatically set to battery_min_level\n",
    "\n",
    "Grid paramaters\n",
    "- grid_energy_import_fee:          grid fee for energy consuption (Currency/xWh)\n",
    "- grid_energy_export_fee:          grid fee for energy production (Currency/xWh)\n",
    "- grid_power_fee:                  grid contract fee for power (Currency/xW)\n",
    "- grid_power_fee_penalty:          grid penalty fee for exceeding contract power level (Currency/xW)\n",
    "- grid_power_contract:             grid contract power level (xW), (if set to zero then power level is optimized)\n",
    "\n",
    "Other\n",
    "- period_length:                   period length relative to hour (e.g if 15min periods, then period_length = 0.25), (Default = 1.0)"
   ]
  },
  {
   "cell_type": "code",
   "execution_count": 18,
   "metadata": {},
   "outputs": [],
   "source": [
    "agent_parameter = agent_example(\n",
    "    battery_min_level = 0.0,\n",
    "    battery_capacity = 1040.0,\n",
    "    battery_charge_max = 470.0,\n",
    "    battery_discharge_max = 470.0,\n",
    "    battery_efficiency_charge = 0.9,\n",
    "    battery_efficiency_discharge = 0.9,\n",
    "    bel_ini_level = 0.0,\n",
    "    bel_fin_level = 0.0,\n",
    "    grid_energy_import_fee = 0.015,\n",
    "    grid_energy_export_fee = 0.015,\n",
    "    grid_power_fee = 111.0, \n",
    "    grid_power_fee_penalty = 222,\n",
    "    grid_power_contract = 0.0)\n",
    "\n",
    "agent = Agents(agent_static = agent_parameter)"
   ]
  },
  {
   "cell_type": "markdown",
   "metadata": {},
   "source": [
    "We optimize by passing to the static environment function, the data and agent parameter inputs"
   ]
  },
  {
   "cell_type": "code",
   "execution_count": 19,
   "metadata": {},
   "outputs": [],
   "source": [
    "solution = static(data, agent)"
   ]
  },
  {
   "cell_type": "markdown",
   "metadata": {},
   "source": [
    "The solution is a Julia structure with the following fields:\n",
    "- operation_plan: A dataframe with the optimized operation plan\n",
    "- grid_power_contract: The optimal power level of the grid contract if parameter grid_power_contract was set to 0.0. Else the value of this paramater (xW)\n",
    "- peak_contract_difference: The difference between power peak and power contract level (xW)\n",
    "- grid_power_cost: The grid power cost (Currency)   \n",
    "- total_cost: The value of the objective function that corresponds to the total cost (Currency)\n",
    "    \n",
    "Julia DataFrame is converted back to Pandas DataFrame using the toPandasDf function    "
   ]
  },
  {
   "cell_type": "code",
   "execution_count": 20,
   "metadata": {},
   "outputs": [],
   "source": [
    "operation_plan = toPandasDf(solution.operation_plan).set_index(['timestamps'])\n",
    "grid_power_contract = solution.grid_power_contract\n",
    "peak_contract_difference = solution.peak_contract_difference\n",
    "grid_power_cost = solution.grid_power_cost\n",
    "total_cost = solution.total_cost"
   ]
  },
  {
   "cell_type": "code",
   "execution_count": 21,
   "metadata": {},
   "outputs": [
    {
     "data": {
      "text/html": [
       "<div>\n",
       "<style scoped>\n",
       "    .dataframe tbody tr th:only-of-type {\n",
       "        vertical-align: middle;\n",
       "    }\n",
       "\n",
       "    .dataframe tbody tr th {\n",
       "        vertical-align: top;\n",
       "    }\n",
       "\n",
       "    .dataframe thead th {\n",
       "        text-align: right;\n",
       "    }\n",
       "</style>\n",
       "<table border=\"1\" class=\"dataframe\">\n",
       "  <thead>\n",
       "    <tr style=\"text-align: right;\">\n",
       "      <th></th>\n",
       "      <th>power_sell</th>\n",
       "      <th>power_buy</th>\n",
       "      <th>energy_cost</th>\n",
       "      <th>grid_energy_cost</th>\n",
       "      <th>battery_state</th>\n",
       "    </tr>\n",
       "    <tr>\n",
       "      <th>timestamps</th>\n",
       "      <th></th>\n",
       "      <th></th>\n",
       "      <th></th>\n",
       "      <th></th>\n",
       "      <th></th>\n",
       "    </tr>\n",
       "  </thead>\n",
       "  <tbody>\n",
       "    <tr>\n",
       "      <th>2019-05-29 14:00:00</th>\n",
       "      <td>0.000000</td>\n",
       "      <td>0.0</td>\n",
       "      <td>0.000000</td>\n",
       "      <td>0.000000</td>\n",
       "      <td>298.261657</td>\n",
       "    </tr>\n",
       "    <tr>\n",
       "      <th>2019-05-29 15:00:00</th>\n",
       "      <td>10.894504</td>\n",
       "      <td>0.0</td>\n",
       "      <td>-4.404648</td>\n",
       "      <td>0.163418</td>\n",
       "      <td>416.422644</td>\n",
       "    </tr>\n",
       "    <tr>\n",
       "      <th>2019-05-29 16:00:00</th>\n",
       "      <td>30.022187</td>\n",
       "      <td>0.0</td>\n",
       "      <td>-13.527998</td>\n",
       "      <td>0.450333</td>\n",
       "      <td>416.422644</td>\n",
       "    </tr>\n",
       "    <tr>\n",
       "      <th>2019-05-29 17:00:00</th>\n",
       "      <td>0.000000</td>\n",
       "      <td>0.0</td>\n",
       "      <td>0.000000</td>\n",
       "      <td>0.000000</td>\n",
       "      <td>314.418654</td>\n",
       "    </tr>\n",
       "    <tr>\n",
       "      <th>2019-05-29 18:00:00</th>\n",
       "      <td>0.000000</td>\n",
       "      <td>0.0</td>\n",
       "      <td>0.000000</td>\n",
       "      <td>0.000000</td>\n",
       "      <td>145.703452</td>\n",
       "    </tr>\n",
       "    <tr>\n",
       "      <th>...</th>\n",
       "      <td>...</td>\n",
       "      <td>...</td>\n",
       "      <td>...</td>\n",
       "      <td>...</td>\n",
       "      <td>...</td>\n",
       "    </tr>\n",
       "    <tr>\n",
       "      <th>2020-03-13 09:00:00</th>\n",
       "      <td>314.276904</td>\n",
       "      <td>0.0</td>\n",
       "      <td>-14.016750</td>\n",
       "      <td>4.714154</td>\n",
       "      <td>0.000000</td>\n",
       "    </tr>\n",
       "    <tr>\n",
       "      <th>2020-03-13 10:00:00</th>\n",
       "      <td>206.493110</td>\n",
       "      <td>0.0</td>\n",
       "      <td>-9.230242</td>\n",
       "      <td>3.097397</td>\n",
       "      <td>0.000000</td>\n",
       "    </tr>\n",
       "    <tr>\n",
       "      <th>2020-03-13 11:00:00</th>\n",
       "      <td>255.452400</td>\n",
       "      <td>0.0</td>\n",
       "      <td>-10.243641</td>\n",
       "      <td>3.831786</td>\n",
       "      <td>0.000000</td>\n",
       "    </tr>\n",
       "    <tr>\n",
       "      <th>2020-03-13 12:00:00</th>\n",
       "      <td>236.098189</td>\n",
       "      <td>0.0</td>\n",
       "      <td>-9.137000</td>\n",
       "      <td>3.541473</td>\n",
       "      <td>0.000000</td>\n",
       "    </tr>\n",
       "    <tr>\n",
       "      <th>2020-03-13 13:00:00</th>\n",
       "      <td>158.867104</td>\n",
       "      <td>0.0</td>\n",
       "      <td>-6.211704</td>\n",
       "      <td>2.383007</td>\n",
       "      <td>0.000000</td>\n",
       "    </tr>\n",
       "  </tbody>\n",
       "</table>\n",
       "<p>6936 rows × 5 columns</p>\n",
       "</div>"
      ],
      "text/plain": [
       "                     power_sell  power_buy  ...  grid_energy_cost  battery_state\n",
       "timestamps                                  ...                                 \n",
       "2019-05-29 14:00:00    0.000000        0.0  ...          0.000000     298.261657\n",
       "2019-05-29 15:00:00   10.894504        0.0  ...          0.163418     416.422644\n",
       "2019-05-29 16:00:00   30.022187        0.0  ...          0.450333     416.422644\n",
       "2019-05-29 17:00:00    0.000000        0.0  ...          0.000000     314.418654\n",
       "2019-05-29 18:00:00    0.000000        0.0  ...          0.000000     145.703452\n",
       "...                         ...        ...  ...               ...            ...\n",
       "2020-03-13 09:00:00  314.276904        0.0  ...          4.714154       0.000000\n",
       "2020-03-13 10:00:00  206.493110        0.0  ...          3.097397       0.000000\n",
       "2020-03-13 11:00:00  255.452400        0.0  ...          3.831786       0.000000\n",
       "2020-03-13 12:00:00  236.098189        0.0  ...          3.541473       0.000000\n",
       "2020-03-13 13:00:00  158.867104        0.0  ...          2.383007       0.000000\n",
       "\n",
       "[6936 rows x 5 columns]"
      ]
     },
     "execution_count": 21,
     "metadata": {},
     "output_type": "execute_result"
    }
   ],
   "source": [
    "operation_plan"
   ]
  },
  {
   "cell_type": "code",
   "execution_count": 22,
   "metadata": {},
   "outputs": [
    {
     "data": {
      "text/plain": [
       "479.8"
      ]
     },
     "execution_count": 22,
     "metadata": {},
     "output_type": "execute_result"
    }
   ],
   "source": [
    "grid_power_contract"
   ]
  },
  {
   "cell_type": "code",
   "execution_count": 23,
   "metadata": {},
   "outputs": [
    {
     "data": {
      "text/plain": [
       "0.0"
      ]
     },
     "execution_count": 23,
     "metadata": {},
     "output_type": "execute_result"
    }
   ],
   "source": [
    "peak_contract_difference"
   ]
  },
  {
   "cell_type": "code",
   "execution_count": 24,
   "metadata": {},
   "outputs": [
    {
     "data": {
      "text/plain": [
       "53256.6"
      ]
     },
     "execution_count": 24,
     "metadata": {},
     "output_type": "execute_result"
    }
   ],
   "source": [
    "grid_power_cost"
   ]
  },
  {
   "cell_type": "code",
   "execution_count": 25,
   "metadata": {},
   "outputs": [
    {
     "data": {
      "text/plain": [
       "210218.0"
      ]
     },
     "execution_count": 25,
     "metadata": {},
     "output_type": "execute_result"
    }
   ],
   "source": [
    "total_cost"
   ]
  },
  {
   "cell_type": "code",
   "execution_count": null,
   "metadata": {},
   "outputs": [],
   "source": []
  }
 ],
 "metadata": {
  "kernelspec": {
   "display_name": "Python 3 (Spyder)",
   "language": "python3",
   "name": "python3"
  },
  "language_info": {
   "codemirror_mode": {
    "name": "ipython",
    "version": 3
   },
   "file_extension": ".py",
   "mimetype": "text/x-python",
   "name": "python",
   "nbconvert_exporter": "python",
   "pygments_lexer": "ipython3",
   "version": "3.7.7"
  }
 },
 "nbformat": 4,
 "nbformat_minor": 4
}
